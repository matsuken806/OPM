{
 "cells": [
  {
   "cell_type": "code",
   "execution_count": 13,
   "id": "4fbe6726",
   "metadata": {},
   "outputs": [
    {
     "name": "stdout",
     "output_type": "stream",
     "text": [
      "* C:\\Users\\inxtc\\Documents\\01_仕事関連\\09_仕事代理\\002_移動平均スクリプト\\series_rlc.asc\n",
      "R1 N001 node1 R\n",
      "L1 node1 N002 L\n",
      "C1 N002 node2 C\n",
      "V1 N001 node2 1\n",
      ".tran 1m\n",
      ".backanno\n",
      ".end\n",
      "\n"
     ]
    }
   ],
   "source": [
    "#!/usr/bin/env python3\n",
    "import sys\n",
    "from pathlib import Path\n",
    "from spicelib import AscEditor                    # for working with .asc files :contentReference[oaicite:0]{index=0}\n",
    "from spicelib.simulators.ltspice_simulator import LTspice  # for netlist generation :contentReference[oaicite:1]{index=1}\n",
    "\n",
    "def display_netlist(asc_file: str):\n",
    "    asc_path = Path(asc_file)\n",
    "    net_path = asc_path.with_suffix(\".net\")\n",
    "\n",
    "    # If LTspice isn’t on your PATH, point spicelib at the executable:\n",
    "    # LTspice.spice_exe = r\"C:\\Program Files\\LTC\\LTspiceXVII\\XVIIx64.exe\"\n",
    "\n",
    "    # Generate the .net (or .cir) file from the schematic\n",
    "    # (instead of save_netlist which only writes .asc) :contentReference[oaicite:2]{index=2}\n",
    "    LTspice.create_netlist(str(asc_path), str(net_path))\n",
    "\n",
    "    # Read and print the generated netlist\n",
    "    print(net_path.read_text())\n",
    "\n",
    "if __name__ == \"__main__\":\n",
    "    asc_path = r\"C:\\Users\\inxtc\\Documents\\01_仕事関連\\09_仕事代理\\002_移動平均スクリプト\\series_rlc.asc\"\n",
    "    display_netlist(asc_path)\n"
   ]
  },
  {
   "cell_type": "code",
   "execution_count": 3,
   "id": "360cac11",
   "metadata": {},
   "outputs": [],
   "source": [
    "import sys\n",
    "import clipboard\n",
    "clipboard.copy(sys.executable)"
   ]
  },
  {
   "cell_type": "code",
   "execution_count": null,
   "id": "5f53c0f6",
   "metadata": {},
   "outputs": [
    {
     "name": "stdout",
     "output_type": "stream",
     "text": [
      "* c:\\Users\\inxtc\\Documents\\01_仕事関連\\09_仕事代理\\002_移動平均スクリプト\\series_rlc.asc\n",
      "R1 N001 node1 100\n",
      "L1 node1 N002 100u\n",
      "C1 N002 0 10u\n",
      "V1 N001 0 PULSE(0 1 0 1u 1u 100u 200u 10)\n",
      ".tran 1m\n",
      ".backanno\n",
      ".end\n",
      "\n"
     ]
    }
   ],
   "source": [
    "from PyLTSpice import SimCommander\n",
    "from pathlib import Path\n",
    "asc_file = r\"series_rlc.asc\"\n",
    "asc_path = Path(asc_file)\n",
    "# ネットリストを表示\n",
    "net_path = asc_path.with_suffix(\".net\")\n",
    "print(net_path.read_text())\n"
   ]
  },
  {
   "cell_type": "code",
   "execution_count": null,
   "id": "2d7dd160",
   "metadata": {},
   "outputs": [
    {
     "name": "stdout",
     "output_type": "stream",
     "text": [
      "       time  V_node1_R1=50k  V_node1_R1=20k  V_node1_R1=5k  V_node1_R1=1k\n",
      "0  0.000000        0.000000        0.000000       0.000000       0.000000\n",
      "1  0.000001        0.002001        0.005002       0.020011       0.100034\n",
      "2  0.000101        0.000228        0.000466       0.002007       0.009981\n",
      "3  0.000102       -0.001727       -0.004191      -0.017992      -0.089954\n",
      "4  0.000200        0.000202        0.000505       0.002014       0.009950\n"
     ]
    },
    {
     "data": {
      "application/vnd.plotly.v1+json": {
       "config": {
        "plotlyServerURL": "https://plot.ly"
       },
       "data": [
        {
         "mode": "lines",
         "name": "V_node1_R1=50k",
         "type": "scatter",
         "x": [
          0,
          0.000001,
          0.00010099999999999999,
          0.00010199999999999999,
          0.00019999999999999998,
          0.00020099999999999998,
          0.00030099999999999994,
          0.00030199999999999997,
          0.00039999999999999996,
          0.000401,
          0.0005009999999999999,
          0.0005020000000000001,
          0.0006,
          0.000601,
          0.000701,
          0.0007019999999999999,
          0.0007999999999999999,
          0.000801,
          0.0009009999999999999,
          0.000902,
          0.001
         ],
         "y": [
          0,
          0.002000873675569892,
          0.00022814411204308271,
          -0.0017267679795622826,
          0.00020193814998492599,
          0.0022029487881809473,
          0.00036534786340780556,
          -0.001612332765944302,
          0.0004037951002828777,
          0.00240025925450027,
          0.0006414773524738848,
          -0.001325346645899117,
          0.0006055718986317515,
          0.002606592606753111,
          0.0007710637291893363,
          -0.0011251731775701046,
          0.0008072694181464612,
          0.002808277728036046,
          0.0009638905175961554,
          -0.0009282520622946322,
          0.0010088824201375246
         ]
        },
        {
         "mode": "lines",
         "name": "V_node1_R1=20k",
         "type": "scatter",
         "x": [
          0,
          0.000001,
          0.00010099999999999999,
          0.00010199999999999999,
          0.00019999999999999998,
          0.00020099999999999998,
          0.00030099999999999994,
          0.00030199999999999997,
          0.00039999999999999996,
          0.000401,
          0.0005009999999999999,
          0.0005020000000000001,
          0.0006,
          0.000601,
          0.000701,
          0.0007019999999999999,
          0.0007999999999999999,
          0.000801,
          0.0009009999999999999,
          0.000902,
          0.001
         ],
         "y": [
          0,
          0.005002490244805813,
          0.0004661494167521596,
          -0.004191162530332804,
          0.0005046179867349565,
          0.005507115740329027,
          0.000989327672868967,
          -0.004185852594673634,
          0.001008734107017517,
          0.00601122947409749,
          0.0015223509399220347,
          -0.0031756681855767965,
          0.0015123446937650442,
          0.006514754146337509,
          0.0019794655963778496,
          -0.0026860786601901054,
          0.002015450270846486,
          0.007017944008111954,
          0.002559026936069131,
          -0.002167516155168414,
          0.0025180568918585777
         ]
        },
        {
         "mode": "lines",
         "name": "V_node1_R1=5k",
         "type": "scatter",
         "x": [
          0,
          0.000001,
          0.00010099999999999999,
          0.00010199999999999999,
          0.00019999999999999998,
          0.00020099999999999998,
          0.00030099999999999994,
          0.00030199999999999997,
          0.00039999999999999996,
          0.000401,
          0.0005009999999999999,
          0.0005020000000000001,
          0.0006,
          0.000601,
          0.000701,
          0.0007019999999999999,
          0.0007999999999999999,
          0.000801,
          0.0009009999999999999,
          0.000902,
          0.001
         ],
         "y": [
          0,
          0.020010817795991898,
          0.002007382921874523,
          -0.01799248903989792,
          0.0020139904227107763,
          0.022022785618901253,
          0.004017489496618509,
          -0.015972215682268143,
          0.004019914194941521,
          0.02402789331972599,
          0.006019354332238436,
          -0.01380118541419506,
          0.006017829291522503,
          0.026026975363492966,
          0.008013061247766018,
          -0.011914282105863094,
          0.008007791824638844,
          0.02801676094532013,
          0.009998990222811699,
          -0.00999059434980154,
          0.009989787824451923
         ]
        },
        {
         "mode": "lines",
         "name": "V_node1_R1=1k",
         "type": "scatter",
         "x": [
          0,
          0.000001,
          0.00010099999999999999,
          0.00010199999999999999,
          0.00019999999999999998,
          0.00020099999999999998,
          0.00030099999999999994,
          0.00030199999999999997,
          0.00039999999999999996,
          0.000401,
          0.0005009999999999999,
          0.0005020000000000001,
          0.0006,
          0.000601,
          0.000701,
          0.0007019999999999999,
          0.0007999999999999999,
          0.000801,
          0.0009009999999999999,
          0.000902,
          0.001
         ],
         "y": [
          0,
          0.10003366321325302,
          0.009980945847928524,
          -0.0899544358253479,
          0.009950472973287106,
          0.10997334122657776,
          0.019831424579024315,
          -0.08010750263929367,
          0.019704006612300873,
          0.11973566561937332,
          0.029486943036317825,
          -0.07045434415340424,
          0.029264412820339203,
          0.12929514050483704,
          0.03895127400755882,
          -0.060989975929260254,
          0.03863551840186119,
          0.13866496086120605,
          0.04822820425033569,
          -0.05171065405011177,
          0.04782133921980858
         ]
        }
       ],
       "layout": {
        "template": {
         "data": {
          "bar": [
           {
            "error_x": {
             "color": "#2a3f5f"
            },
            "error_y": {
             "color": "#2a3f5f"
            },
            "marker": {
             "line": {
              "color": "#E5ECF6",
              "width": 0.5
             },
             "pattern": {
              "fillmode": "overlay",
              "size": 10,
              "solidity": 0.2
             }
            },
            "type": "bar"
           }
          ],
          "barpolar": [
           {
            "marker": {
             "line": {
              "color": "#E5ECF6",
              "width": 0.5
             },
             "pattern": {
              "fillmode": "overlay",
              "size": 10,
              "solidity": 0.2
             }
            },
            "type": "barpolar"
           }
          ],
          "carpet": [
           {
            "aaxis": {
             "endlinecolor": "#2a3f5f",
             "gridcolor": "white",
             "linecolor": "white",
             "minorgridcolor": "white",
             "startlinecolor": "#2a3f5f"
            },
            "baxis": {
             "endlinecolor": "#2a3f5f",
             "gridcolor": "white",
             "linecolor": "white",
             "minorgridcolor": "white",
             "startlinecolor": "#2a3f5f"
            },
            "type": "carpet"
           }
          ],
          "choropleth": [
           {
            "colorbar": {
             "outlinewidth": 0,
             "ticks": ""
            },
            "type": "choropleth"
           }
          ],
          "contour": [
           {
            "colorbar": {
             "outlinewidth": 0,
             "ticks": ""
            },
            "colorscale": [
             [
              0,
              "#0d0887"
             ],
             [
              0.1111111111111111,
              "#46039f"
             ],
             [
              0.2222222222222222,
              "#7201a8"
             ],
             [
              0.3333333333333333,
              "#9c179e"
             ],
             [
              0.4444444444444444,
              "#bd3786"
             ],
             [
              0.5555555555555556,
              "#d8576b"
             ],
             [
              0.6666666666666666,
              "#ed7953"
             ],
             [
              0.7777777777777778,
              "#fb9f3a"
             ],
             [
              0.8888888888888888,
              "#fdca26"
             ],
             [
              1,
              "#f0f921"
             ]
            ],
            "type": "contour"
           }
          ],
          "contourcarpet": [
           {
            "colorbar": {
             "outlinewidth": 0,
             "ticks": ""
            },
            "type": "contourcarpet"
           }
          ],
          "heatmap": [
           {
            "colorbar": {
             "outlinewidth": 0,
             "ticks": ""
            },
            "colorscale": [
             [
              0,
              "#0d0887"
             ],
             [
              0.1111111111111111,
              "#46039f"
             ],
             [
              0.2222222222222222,
              "#7201a8"
             ],
             [
              0.3333333333333333,
              "#9c179e"
             ],
             [
              0.4444444444444444,
              "#bd3786"
             ],
             [
              0.5555555555555556,
              "#d8576b"
             ],
             [
              0.6666666666666666,
              "#ed7953"
             ],
             [
              0.7777777777777778,
              "#fb9f3a"
             ],
             [
              0.8888888888888888,
              "#fdca26"
             ],
             [
              1,
              "#f0f921"
             ]
            ],
            "type": "heatmap"
           }
          ],
          "heatmapgl": [
           {
            "colorbar": {
             "outlinewidth": 0,
             "ticks": ""
            },
            "colorscale": [
             [
              0,
              "#0d0887"
             ],
             [
              0.1111111111111111,
              "#46039f"
             ],
             [
              0.2222222222222222,
              "#7201a8"
             ],
             [
              0.3333333333333333,
              "#9c179e"
             ],
             [
              0.4444444444444444,
              "#bd3786"
             ],
             [
              0.5555555555555556,
              "#d8576b"
             ],
             [
              0.6666666666666666,
              "#ed7953"
             ],
             [
              0.7777777777777778,
              "#fb9f3a"
             ],
             [
              0.8888888888888888,
              "#fdca26"
             ],
             [
              1,
              "#f0f921"
             ]
            ],
            "type": "heatmapgl"
           }
          ],
          "histogram": [
           {
            "marker": {
             "pattern": {
              "fillmode": "overlay",
              "size": 10,
              "solidity": 0.2
             }
            },
            "type": "histogram"
           }
          ],
          "histogram2d": [
           {
            "colorbar": {
             "outlinewidth": 0,
             "ticks": ""
            },
            "colorscale": [
             [
              0,
              "#0d0887"
             ],
             [
              0.1111111111111111,
              "#46039f"
             ],
             [
              0.2222222222222222,
              "#7201a8"
             ],
             [
              0.3333333333333333,
              "#9c179e"
             ],
             [
              0.4444444444444444,
              "#bd3786"
             ],
             [
              0.5555555555555556,
              "#d8576b"
             ],
             [
              0.6666666666666666,
              "#ed7953"
             ],
             [
              0.7777777777777778,
              "#fb9f3a"
             ],
             [
              0.8888888888888888,
              "#fdca26"
             ],
             [
              1,
              "#f0f921"
             ]
            ],
            "type": "histogram2d"
           }
          ],
          "histogram2dcontour": [
           {
            "colorbar": {
             "outlinewidth": 0,
             "ticks": ""
            },
            "colorscale": [
             [
              0,
              "#0d0887"
             ],
             [
              0.1111111111111111,
              "#46039f"
             ],
             [
              0.2222222222222222,
              "#7201a8"
             ],
             [
              0.3333333333333333,
              "#9c179e"
             ],
             [
              0.4444444444444444,
              "#bd3786"
             ],
             [
              0.5555555555555556,
              "#d8576b"
             ],
             [
              0.6666666666666666,
              "#ed7953"
             ],
             [
              0.7777777777777778,
              "#fb9f3a"
             ],
             [
              0.8888888888888888,
              "#fdca26"
             ],
             [
              1,
              "#f0f921"
             ]
            ],
            "type": "histogram2dcontour"
           }
          ],
          "mesh3d": [
           {
            "colorbar": {
             "outlinewidth": 0,
             "ticks": ""
            },
            "type": "mesh3d"
           }
          ],
          "parcoords": [
           {
            "line": {
             "colorbar": {
              "outlinewidth": 0,
              "ticks": ""
             }
            },
            "type": "parcoords"
           }
          ],
          "pie": [
           {
            "automargin": true,
            "type": "pie"
           }
          ],
          "scatter": [
           {
            "fillpattern": {
             "fillmode": "overlay",
             "size": 10,
             "solidity": 0.2
            },
            "type": "scatter"
           }
          ],
          "scatter3d": [
           {
            "line": {
             "colorbar": {
              "outlinewidth": 0,
              "ticks": ""
             }
            },
            "marker": {
             "colorbar": {
              "outlinewidth": 0,
              "ticks": ""
             }
            },
            "type": "scatter3d"
           }
          ],
          "scattercarpet": [
           {
            "marker": {
             "colorbar": {
              "outlinewidth": 0,
              "ticks": ""
             }
            },
            "type": "scattercarpet"
           }
          ],
          "scattergeo": [
           {
            "marker": {
             "colorbar": {
              "outlinewidth": 0,
              "ticks": ""
             }
            },
            "type": "scattergeo"
           }
          ],
          "scattergl": [
           {
            "marker": {
             "colorbar": {
              "outlinewidth": 0,
              "ticks": ""
             }
            },
            "type": "scattergl"
           }
          ],
          "scattermapbox": [
           {
            "marker": {
             "colorbar": {
              "outlinewidth": 0,
              "ticks": ""
             }
            },
            "type": "scattermapbox"
           }
          ],
          "scatterpolar": [
           {
            "marker": {
             "colorbar": {
              "outlinewidth": 0,
              "ticks": ""
             }
            },
            "type": "scatterpolar"
           }
          ],
          "scatterpolargl": [
           {
            "marker": {
             "colorbar": {
              "outlinewidth": 0,
              "ticks": ""
             }
            },
            "type": "scatterpolargl"
           }
          ],
          "scatterternary": [
           {
            "marker": {
             "colorbar": {
              "outlinewidth": 0,
              "ticks": ""
             }
            },
            "type": "scatterternary"
           }
          ],
          "surface": [
           {
            "colorbar": {
             "outlinewidth": 0,
             "ticks": ""
            },
            "colorscale": [
             [
              0,
              "#0d0887"
             ],
             [
              0.1111111111111111,
              "#46039f"
             ],
             [
              0.2222222222222222,
              "#7201a8"
             ],
             [
              0.3333333333333333,
              "#9c179e"
             ],
             [
              0.4444444444444444,
              "#bd3786"
             ],
             [
              0.5555555555555556,
              "#d8576b"
             ],
             [
              0.6666666666666666,
              "#ed7953"
             ],
             [
              0.7777777777777778,
              "#fb9f3a"
             ],
             [
              0.8888888888888888,
              "#fdca26"
             ],
             [
              1,
              "#f0f921"
             ]
            ],
            "type": "surface"
           }
          ],
          "table": [
           {
            "cells": {
             "fill": {
              "color": "#EBF0F8"
             },
             "line": {
              "color": "white"
             }
            },
            "header": {
             "fill": {
              "color": "#C8D4E3"
             },
             "line": {
              "color": "white"
             }
            },
            "type": "table"
           }
          ]
         },
         "layout": {
          "annotationdefaults": {
           "arrowcolor": "#2a3f5f",
           "arrowhead": 0,
           "arrowwidth": 1
          },
          "autotypenumbers": "strict",
          "coloraxis": {
           "colorbar": {
            "outlinewidth": 0,
            "ticks": ""
           }
          },
          "colorscale": {
           "diverging": [
            [
             0,
             "#8e0152"
            ],
            [
             0.1,
             "#c51b7d"
            ],
            [
             0.2,
             "#de77ae"
            ],
            [
             0.3,
             "#f1b6da"
            ],
            [
             0.4,
             "#fde0ef"
            ],
            [
             0.5,
             "#f7f7f7"
            ],
            [
             0.6,
             "#e6f5d0"
            ],
            [
             0.7,
             "#b8e186"
            ],
            [
             0.8,
             "#7fbc41"
            ],
            [
             0.9,
             "#4d9221"
            ],
            [
             1,
             "#276419"
            ]
           ],
           "sequential": [
            [
             0,
             "#0d0887"
            ],
            [
             0.1111111111111111,
             "#46039f"
            ],
            [
             0.2222222222222222,
             "#7201a8"
            ],
            [
             0.3333333333333333,
             "#9c179e"
            ],
            [
             0.4444444444444444,
             "#bd3786"
            ],
            [
             0.5555555555555556,
             "#d8576b"
            ],
            [
             0.6666666666666666,
             "#ed7953"
            ],
            [
             0.7777777777777778,
             "#fb9f3a"
            ],
            [
             0.8888888888888888,
             "#fdca26"
            ],
            [
             1,
             "#f0f921"
            ]
           ],
           "sequentialminus": [
            [
             0,
             "#0d0887"
            ],
            [
             0.1111111111111111,
             "#46039f"
            ],
            [
             0.2222222222222222,
             "#7201a8"
            ],
            [
             0.3333333333333333,
             "#9c179e"
            ],
            [
             0.4444444444444444,
             "#bd3786"
            ],
            [
             0.5555555555555556,
             "#d8576b"
            ],
            [
             0.6666666666666666,
             "#ed7953"
            ],
            [
             0.7777777777777778,
             "#fb9f3a"
            ],
            [
             0.8888888888888888,
             "#fdca26"
            ],
            [
             1,
             "#f0f921"
            ]
           ]
          },
          "colorway": [
           "#636efa",
           "#EF553B",
           "#00cc96",
           "#ab63fa",
           "#FFA15A",
           "#19d3f3",
           "#FF6692",
           "#B6E880",
           "#FF97FF",
           "#FECB52"
          ],
          "font": {
           "color": "#2a3f5f"
          },
          "geo": {
           "bgcolor": "white",
           "lakecolor": "white",
           "landcolor": "#E5ECF6",
           "showlakes": true,
           "showland": true,
           "subunitcolor": "white"
          },
          "hoverlabel": {
           "align": "left"
          },
          "hovermode": "closest",
          "mapbox": {
           "style": "light"
          },
          "paper_bgcolor": "white",
          "plot_bgcolor": "#E5ECF6",
          "polar": {
           "angularaxis": {
            "gridcolor": "white",
            "linecolor": "white",
            "ticks": ""
           },
           "bgcolor": "#E5ECF6",
           "radialaxis": {
            "gridcolor": "white",
            "linecolor": "white",
            "ticks": ""
           }
          },
          "scene": {
           "xaxis": {
            "backgroundcolor": "#E5ECF6",
            "gridcolor": "white",
            "gridwidth": 2,
            "linecolor": "white",
            "showbackground": true,
            "ticks": "",
            "zerolinecolor": "white"
           },
           "yaxis": {
            "backgroundcolor": "#E5ECF6",
            "gridcolor": "white",
            "gridwidth": 2,
            "linecolor": "white",
            "showbackground": true,
            "ticks": "",
            "zerolinecolor": "white"
           },
           "zaxis": {
            "backgroundcolor": "#E5ECF6",
            "gridcolor": "white",
            "gridwidth": 2,
            "linecolor": "white",
            "showbackground": true,
            "ticks": "",
            "zerolinecolor": "white"
           }
          },
          "shapedefaults": {
           "line": {
            "color": "#2a3f5f"
           }
          },
          "ternary": {
           "aaxis": {
            "gridcolor": "white",
            "linecolor": "white",
            "ticks": ""
           },
           "baxis": {
            "gridcolor": "white",
            "linecolor": "white",
            "ticks": ""
           },
           "bgcolor": "#E5ECF6",
           "caxis": {
            "gridcolor": "white",
            "linecolor": "white",
            "ticks": ""
           }
          },
          "title": {
           "x": 0.05
          },
          "xaxis": {
           "automargin": true,
           "gridcolor": "white",
           "linecolor": "white",
           "ticks": "",
           "title": {
            "standoff": 15
           },
           "zerolinecolor": "white",
           "zerolinewidth": 2
          },
          "yaxis": {
           "automargin": true,
           "gridcolor": "white",
           "linecolor": "white",
           "ticks": "",
           "title": {
            "standoff": 15
           },
           "zerolinecolor": "white",
           "zerolinewidth": 2
          }
         }
        },
        "title": {
         "text": "Node1 Voltage Sweep"
        },
        "xaxis": {
         "title": {
          "text": "Time [s]"
         }
        },
        "yaxis": {
         "title": {
          "text": "Voltage [V]"
         }
        }
       }
      }
     },
     "metadata": {},
     "output_type": "display_data"
    }
   ],
   "source": [
    "import os\n",
    "import pandas as pd\n",
    "from functools import reduce\n",
    "from PyLTSpice import SimCommander, RawRead\n",
    "import plotly.graph_objects as go\n",
    "\n",
    "# 1) 元の.ascファイルを読み込み（同時に.netも生成）\n",
    "LTC = SimCommander(\"series_rlc.asc\")\n",
    "print(\"\".join(LTC.netlist))\n",
    "\n",
    "\n",
    "# 2) スイープするR1の値リスト\n",
    "values = [\"50k\", \"20k\", \"5k\", \"1k\"]\n",
    "\n",
    "# 実行したシミュレーション情報を保持\n",
    "run_files = []\n",
    "\n",
    "# 3) 各値でシミュレーション実行\n",
    "for i, val in enumerate(values):\n",
    "    LTC.set_component_value(\"R1\", val)\n",
    "    run_net_file = f\"series_rlc_{i}.net\"\n",
    "    LTC.run(run_filename=run_net_file)\n",
    "    run_files.append((val, run_net_file))\n",
    "\n",
    "# 4) 全シミュレーションの終了を待機\n",
    "LTC.wait_completion()\n",
    "\n",
    "# 5) 各.rawファイルを読み込んでDataFrame化\n",
    "dfs = []\n",
    "for val, net_file in run_files:\n",
    "    raw_path = os.path.splitext(net_file)[0] + \".raw\"\n",
    "    raw = RawRead(raw_path)\n",
    "\n",
    "    # トレース名を自動検出\n",
    "    traces = raw.get_trace_names()\n",
    "    trace_name = 'V(node1)' if 'V(node1)' in traces else next(t for t in traces if t.startswith('V('))\n",
    "\n",
    "    # 時間と電圧データを取得\n",
    "    time = raw.get_axis()\n",
    "    voltage = raw.get_trace(trace_name).get_wave()\n",
    "\n",
    "    # DataFrame に格納\n",
    "    df = pd.DataFrame({\n",
    "        \"time\": time,\n",
    "        f\"V_node1_R1={val}\": voltage\n",
    "    })\n",
    "    dfs.append(df)\n",
    "\n",
    "# 6) time 列でマージして，一つの DataFrame にまとめる\n",
    "combined_df = reduce(lambda left, right: pd.merge(left, right, on=\"time\"), dfs)\n",
    "\n",
    "# 確認\n",
    "print(combined_df.head())\n",
    "\n",
    "# 7) （オプション）Plotly で描画\n",
    "fig = go.Figure()\n",
    "for col in combined_df.columns:\n",
    "    if col != \"time\":\n",
    "        fig.add_trace(go.Scatter(\n",
    "            x=combined_df[\"time\"],\n",
    "            y=combined_df[col],\n",
    "            mode=\"lines\",\n",
    "            name=col\n",
    "        ))\n",
    "fig.update_layout(\n",
    "    title=\"Node1 Voltage Sweep\",\n",
    "    xaxis_title=\"Time [s]\",\n",
    "    yaxis_title=\"Voltage [V]\",\n",
    "    # template=\"simple_white\"\n",
    ")\n",
    "fig.show()\n"
   ]
  },
  {
   "cell_type": "code",
   "execution_count": null,
   "id": "e3b9ae5a",
   "metadata": {},
   "outputs": [
    {
     "name": "stdout",
     "output_type": "stream",
     "text": [
      "* c:\\Users\\inxtc\\Documents\\01_仕事関連\\09_仕事代理\\002_移動平均スクリプト\\Equivalent_ThermalCircuit.asc\n",
      "R1 N004 N003 1\n",
      "R2 N005 N004 1\n",
      "R3 N006 N005 1\n",
      "R4 N007 N006 1\n",
      "R5 N008 N007 1\n",
      "R6 N009 N008 1\n",
      "R7 N010 N009 1\n",
      "R8 N011 N010 1\n",
      "R9 N012 N011 1\n",
      "R10 N013 N012 1\n",
      "R11 N014 N013 1\n",
      "R12 N015 N014 1\n",
      "R13 N016 N015 1\n",
      "R14 N017 N016 1\n",
      "R15 N001 N017 1\n",
      "R16 N018 N001 1\n",
      "R17 N019 N018 1\n",
      "R18 N020 N019 1\n",
      "R19 N002 N020 1\n",
      "R20 N021 N002 1\n",
      "R21 N022 N021 1\n",
      "R22 N023 N022 1\n",
      "R23 0 N023 1\n",
      "R24 0 N002 1\n",
      "R25 0 N001 1\n",
      "R26 0 N003 1\n",
      "I1 0 N011 1\n",
      "I2 0 N016 1\n",
      "I3 0 N018 1\n",
      "I4 0 N022 1\n",
      ".tran 1m\n",
      ".backanno\n",
      ".end\n",
      "\n"
     ]
    }
   ],
   "source": [
    "import os\n",
    "import pandas as pd\n",
    "from functools import reduce\n",
    "from PyLTSpice import SimCommander, RawRead\n",
    "import plotly.graph_objects as go\n",
    "import numpy as np\n",
    "\n",
    "def calc_thermal_resistance_cylinder(Ri, Ro, L, k):\n",
    "    \"\"\"\n",
    "    円筒の熱抵抗を計算する関数\n",
    "    :param Ri: 内半径 [m]\n",
    "    :param Ro: 外半径 [m]\n",
    "    :param L: 長さ [m]\n",
    "    :param k: 熱伝導率 [W/(m*K)]\n",
    "    :return: 熱抵抗 [K/W]\n",
    "    \"\"\"\n",
    "    return np.log(Ro/Ri) / (2 * np.pi * k * L)\n",
    "\n",
    "def calc_thermal_convection_equivalent_resistance(Ro, h = 10, L=1):\n",
    "    \"\"\"\n",
    "    熱対流の等価熱抵抗を計算する関数\n",
    "    :param Ro: 外半径 [m]\n",
    "    :param h: 熱伝達率 [W/(m^2*K)]\n",
    "    :param L: 長さ [m] (省略可能、デフォルトは1m)\n",
    "    :return: 熱抵抗 [K/W]\n",
    "    R = 1 / (h * S) = 1 / (h * 2 * π * Ro * L)\n",
    "    \"\"\"\n",
    "    # 空気の自然対流における熱伝達係数\n",
    "    # h = 10  # W/(m^2*K) の例（実際の値は条件による）\n",
    "    return 1 / (h * 2 * np.pi * Ro * L)\n",
    "\n",
    "def calc_forced_convection_equivalent_resistance(Ro, Ri=1.0, h=100, L=1, model=\"Equivalent Value\"):\n",
    "    \"\"\"\n",
    "    強制対流の等価熱抵抗を計算する関数\n",
    "    :param Ro: 外半径 [m]\n",
    "    :param h: 熱伝達率 [W/(m^2*K)]\n",
    "    :param L: 長さ [m] (省略可能、デフォルトは1m)\n",
    "    :return: 熱抵抗 [K/W]\n",
    "    R = 1 / (h * S) = 1 / (h * 2 * π * Ro * L)\n",
    "    \"\"\"\n",
    "    if model == \"Equivalent Value\":\n",
    "        # 強制対流の等価熱抵抗\n",
    "        h = 100  # W/(m^2*K) の例（実際の値は条件による）\n",
    "        R = 1 / (h * 2 * np.pi * Ro * L)\n",
    "    else:\n",
    "        # 熱輸送モデルによる等価熱抵抗\n",
    "        Q = np.pi * (Ro**2 - Ri**2) * L  # 円筒の断面積\n",
    "        R = 1 / (1150 * Q)\n",
    "    return R\n",
    "\n",
    "def define_thermal_resistances(idx=1, thermal_type=\"Conduction\", Ri=0.01, Ro=0.012, L=0.1, k=0.1, h=10, model=\"Equivalent Value\"):\n",
    "    \"\"\"\n",
    "    熱抵抗の定義を行う関数\n",
    "    :return: 熱抵抗のリスト\n",
    "    \"\"\"\n",
    "    if thermal_type == \"Conduction\":\n",
    "        # 熱伝導の熱抵抗\n",
    "        val_dict = {\n",
    "            \"Name\": f\"R{idx}\",\n",
    "            \"Type\": thermal_type, \n",
    "            \"Ri\": Ri, # 内半径 [m]\n",
    "            \"Ro\": Ro, # 外半径 [m]\n",
    "            \"L\": L, # 円筒の長さ [m]\n",
    "            \"k\": k, # 熱伝導率 [W/(m*K)]\n",
    "            \"Rt\": calc_thermal_resistance_cylinder(Ri, Ro, L, k)\n",
    "        }\n",
    "    elif thermal_type == \"N-Convection\":\n",
    "        # 自然対流の等価熱抵抗\n",
    "        val_dict = {\n",
    "            \"Name\": f\"R{idx}\",\n",
    "            \"Type\": thermal_type, \n",
    "            \"Ri\": Ri, # 内半径 [m] \n",
    "            \"Ro\": Ro, # 外半径 [m]\n",
    "            \"L\": L, # 円筒の長さ [m]\n",
    "            \"h\": 10,  # 熱伝達率の例\n",
    "            \"Rt\": calc_thermal_convection_equivalent_resistance(Ro, h=10, L=L)\n",
    "        }\n",
    "    elif thermal_type == \"F-Convection\":\n",
    "        # 強制対流の等価熱抵抗\n",
    "        val_dict = {\n",
    "            \"Name\": f\"R{idx}\",\n",
    "            \"Type\": thermal_type, \n",
    "            \"Ri\": Ri, # 内半径 [m] \n",
    "            \"Ro\": Ro, # 外半径 [m] \n",
    "            \"L\": L, # 平均風速 [m/s]\n",
    "            \"h\": 100,  # 熱伝達率の例\n",
    "            \"model\": model,  # モデルの指定\n",
    "            \"Rt\": calc_forced_convection_equivalent_resistance(Ro, Ri=Ri, h=h, L=L, model=model)\n",
    "        }\n",
    "    return val_dict\n",
    "\n",
    "# 1) 元の.ascファイルを読み込み（同時に.netも生成）\n",
    "LTC = SimCommander(\"Equivalent_ThermalCircuit.asc\")\n",
    "print(\"\".join(LTC.netlist))\n",
    "\n",
    "# 2) パラメータの設定値リスト\n",
    "# === １．与件（実際の値を入れてください） ===\n",
    "k_Cu = 400 # 銅の熱伝導率 [W/(m*K)] 385 ~ 400\n",
    "k_Coil = 1.5  # 銅コイル（被覆あり）の平均熱伝導率 [W/(m*K)] 1 ~ 2\n",
    "k_PC = 0.19 # ポリカーボネートの熱伝導率 [W/(m*K)] 0.19 ~ 0.20\n",
    "k_Air = 0.025  # 空気の熱伝導率 [W/(m*K)] 0.025 ~ 0.026\n",
    "h_naturalair = 10  # 自然対流の熱伝達率 [W/(m^2*K)] 10 ~ 20\n",
    "h_forcedair = 100  # 強制対流の熱伝達率 [W/(m^2*K)] 100 ~ 200\n",
    "v_forcedair = 1.0  # 強制対流の平均風速 [m/s] 1 ~ 2\n",
    "v_gapair = 0.001  # ギャップからの換気風速\n",
    "# === ２．コイルの寸法 ===\n",
    "Rrx1 = 0.01  # コイル内面の半径 [m]\n",
    "Rrx2 = 0.012  # コイル内コイル層の半径 [m]\n",
    "Rrx3 = 0.014  # コイル外コイル層の半径 [m]\n",
    "Rtx1 = 0.016  # コイル外面の半径 [m]\n",
    "Rtx2 = 0.018  # コイル外面の外側の半径 [m]\n",
    "Rtx3 = 0.02  # コイル外面の外側の外側の半径 [m]\n",
    "Rb11 = 0.022  # コイル外面の外側の外側の外側の半径 [m]\n",
    "Rb12 = 0.024  # コイル外面の外側の外側の外側の半径 [m]\n",
    "Rb13 = 0.026  # コイル外面の外側の外側の外側の外側の半径 [m]\n",
    "Rb21 = 0.028  # コイル外面の外側の外側の外側の外側の外側の半径 [m]\n",
    "Rb22 = 0.03  # コイル外面の外側の外側の外側の外側の外側の外側の半径 [m]\n",
    "Rb23 = 0.032  # コイル外面の外側の外側の外側の外側の外側の外側の半径 [m]\n",
    "Rb31 = 0.034  # コイル外面の外側の外側の外側の外側の外側の外側の外側の半径 [m]\n",
    "Rb32 = 0.036  # コイル外面の外側の外側の外側の外側の外側の外側の外側の半径 [m]\n",
    "Rb33 = 0.038  # コイル外面の外側の外側\n",
    "L_coil = 0.20  # コイルの長さ [m]（全てのコイルで同じ長さとする）\n",
    "# === ３．発熱量 ===\n",
    "I_tx = 1.0  # Txコイルの発熱量 [W]\n",
    "I_bx1 = 1.0  # Biasコイル1の発熱量 [W]\n",
    "I_bx2 = 1.0  # Biasコイル2の発熱量 [W]\n",
    "I_bx3 = 1.0  # Biasコイル3の発熱量 [W]\n",
    "\n",
    "# 熱抵抗リスト\n",
    "thermal_resistances = [\n",
    "    define_thermal_resistances(idx=1,   thermal_type=\"N-Convection\",    Ri=Rrx1, Ro=Rrx1, L=L_coil, k=k_Air, h=h_naturalair),  # R1 \n",
    "    define_thermal_resistances(idx=2,   thermal_type=\"Conduction\",      Ri=Rrx1, Ro=Rrx2, L=L_coil, k=k_PC),  # コイル内面－コイル内コイル層    \n",
    "    define_thermal_resistances(idx=3,   thermal_type=\"Conduction\",      Ri=Rrx2, Ro=Rrx3, L=L_coil, k=k_Coil),  # コイル内面－コイル内コイル層    M\n",
    "    define_thermal_resistances(idx=4,   thermal_type=\"N-Convection\",    Ri=Rrx3, Ro=Rrx3, L=L_coil, k=k_Air, h=h_naturalair),  # コイル内面－コイル内コイル層    M\n",
    "    define_thermal_resistances(idx=5,   thermal_type=\"N-Convection\",    Ri=Rtx1, Ro=Rtx1, L=L_coil, k=k_Air, h=h_naturalair),  # コイル内面－コイル内コイル層    M\n",
    "    define_thermal_resistances(idx=6,   thermal_type=\"Conduction\",      Ri=Rtx1, Ro=Rtx2, L=L_coil, k=k_PC),  # コイル内面－コイル内コイル層    M\n",
    "    define_thermal_resistances(idx=7,   thermal_type=\"Conduction\",      Ri=Rtx2, Ro=(Rtx2+Rtx3)/2, L=L_coil, k=k_Coil),  # コイル内面－コイル内コイル層    M\n",
    "    define_thermal_resistances(idx=8,   thermal_type=\"Conduction\",      Ri=(Rtx2+Rtx3)/2, Ro=Rtx3, L=L_coil, k=k_Coil),  # コイル内面－コイル内コイル層    M\n",
    "    define_thermal_resistances(idx=9,   thermal_type=\"N-Convection\",    Ri=Rtx3, Ro=Rtx3, L=L_coil, k=k_Air, h=h_naturalair),  # コイル内面－コイル内コイル層    M\n",
    "    define_thermal_resistances(idx=10,  thermal_type=\"N-Convection\",    Ri=Rb11, Ro=Rb11, L=L_coil, k=k_Air, h=h_naturalair),  # コイル内面－コイル内コイル層   \n",
    "    define_thermal_resistances(idx=11,  thermal_type=\"Conduction\",      Ri=Rb11, Ro=Rb12, L=L_coil, k=k_Cu),  # コイル内面－コイル内コイル層   \n",
    "    define_thermal_resistances(idx=12,  thermal_type=\"Conduction\",      Ri=Rb12, Ro=(Rb12+Rb13)/2, L=L_coil, k=k_Coil),  # コイル内面－コイル内コイル層    M\n",
    "    define_thermal_resistances(idx=13,  thermal_type=\"Conduction\",      Ri=(Rb12+Rb13)/2, Ro=Rb13, L=L_coil, k=k_Coil),  # コイル内面－コイル内コイル層    M\n",
    "    define_thermal_resistances(idx=14,  thermal_type=\"N-Convection\",    Ri=Rb13, Ro=Rb13, L=L_coil, k=k_Air, h=h_naturalair),  # コイル内面－コイル内コイル層    M\n",
    "    define_thermal_resistances(idx=15,  thermal_type=\"N-Convection\",    Ri=Rb21, Ro=Rb21, L=L_coil, k=k_Air, h=h_naturalair),  # コイル内面－コイル内コイル層   \n",
    "    define_thermal_resistances(idx=16,  thermal_type=\"Conduction\",      Ri=Rb21, Ro=(Rb21+Rb22)/2, L=L_coil, k=k_Coil),  # コイル内面－コイル内コイル層   \n",
    "    define_thermal_resistances(idx=17,  thermal_type=\"Conduction\",      Ri=(Rb21+Rb22)/2, Ro=Rb22, L=L_coil, k=k_Coil),  # コイル内面－コイル内コイル層    M\n",
    "    define_thermal_resistances(idx=18,  thermal_type=\"N-Convection\",    Ri=Rb22, Ro=Rb22, L=L_coil, k=k_Air, h=h_naturalair),  # コイル内面－コイル内コイル層    M\n",
    "    define_thermal_resistances(idx=19,  thermal_type=\"N-Convection\",    Ri=Rb31, Ro=Rb31, L=L_coil, k=k_Air, h=h_naturalair),  # コイル内面－コイル内コイル層   \n",
    "    define_thermal_resistances(idx=20,  thermal_type=\"Conduction\",      Ri=Rb31, Ro=(Rb31+Rb32)/2, L=L_coil, k=k_Coil),  # コイル内面－コイル内コイル層   \n",
    "    define_thermal_resistances(idx=21,  thermal_type=\"Conduction\",      Ri=(Rb31+Rb32)/2, Ro=Rb32, L=L_coil, k=k_Coil),  # コイル内面－コイル内コイル層    M\n",
    "    define_thermal_resistances(idx=22,  thermal_type=\"N-Convection\",    Ri=Rb32, Ro=Rb32, L=L_coil, k=k_Air, h=h_naturalair),  # コイル内面－コイル内コイル層    M\n",
    "    define_thermal_resistances(idx=23,  thermal_type=\"F-Convection\",    Ri=Rb22, Ro=Rb31, L=v_forcedair, k=k_Air, h=h_naturalair, model=\"vent model\"),  # コイル内面－コイル内コイル層   \n",
    "    define_thermal_resistances(idx=24,  thermal_type=\"F-Convection\",    Ri=Rb13, Ro=Rb21, L=v_forcedair, k=k_Air, h=h_naturalair, model=\"vent model\"),  # コイル内面－コイル内コイル層   \n",
    "    define_thermal_resistances(idx=25,  thermal_type=\"F-Convection\",    Ri=0, Ro=Rrx1, L=v_gapair, k=k_Air, h=h_naturalair, model=\"vent model\"),  # コイル内面－コイル内コイル層   \n",
    "]\n",
    "\n",
    "values = [\"50k\", \"20k\", \"5k\", \"1k\"]\n",
    "\n",
    "# # 実行したシミュレーション情報を保持\n",
    "# run_files = []\n",
    "\n",
    "# # 3) 各値でシミュレーション実行\n",
    "# for i, val in enumerate(values):\n",
    "#     LTC.set_component_value(\"R1\", val)\n",
    "#     run_net_file = f\"series_rlc_{i}.net\"\n",
    "#     LTC.run(run_filename=run_net_file)\n",
    "#     run_files.append((val, run_net_file))\n",
    "\n",
    "# # 4) 全シミュレーションの終了を待機\n",
    "# LTC.wait_completion()\n",
    "\n",
    "# # 5) 各.rawファイルを読み込んでDataFrame化\n",
    "# dfs = []\n",
    "# for val, net_file in run_files:\n",
    "#     raw_path = os.path.splitext(net_file)[0] + \".raw\"\n",
    "#     raw = RawRead(raw_path)\n",
    "\n",
    "#     # トレース名を自動検出\n",
    "#     traces = raw.get_trace_names()\n",
    "#     trace_name = 'V(node1)' if 'V(node1)' in traces else next(t for t in traces if t.startswith('V('))\n",
    "\n",
    "#     # 時間と電圧データを取得\n",
    "#     time = raw.get_axis()\n",
    "#     voltage = raw.get_trace(trace_name).get_wave()\n",
    "\n",
    "#     # DataFrame に格納\n",
    "#     df = pd.DataFrame({\n",
    "#         \"time\": time,\n",
    "#         f\"V_node1_R1={val}\": voltage\n",
    "#     })\n",
    "#     dfs.append(df)\n",
    "\n",
    "# # 6) time 列でマージして，一つの DataFrame にまとめる\n",
    "# combined_df = reduce(lambda left, right: pd.merge(left, right, on=\"time\"), dfs)\n",
    "\n",
    "# # 確認\n",
    "# print(combined_df.head())\n",
    "\n",
    "# # 7) （オプション）Plotly で描画\n",
    "# fig = go.Figure()\n",
    "# for col in combined_df.columns:\n",
    "#     if col != \"time\":\n",
    "#         fig.add_trace(go.Scatter(\n",
    "#             x=combined_df[\"time\"],\n",
    "#             y=combined_df[col],\n",
    "#             mode=\"lines\",\n",
    "#             name=col\n",
    "#         ))\n",
    "# fig.update_layout(\n",
    "#     title=\"Node1 Voltage Sweep\",\n",
    "#     xaxis_title=\"Time [s]\",\n",
    "#     yaxis_title=\"Voltage [V]\",\n",
    "#     # template=\"simple_white\"\n",
    "# )\n",
    "# fig.show()\n"
   ]
  },
  {
   "cell_type": "code",
   "execution_count": 27,
   "id": "607b66ec",
   "metadata": {},
   "outputs": [
    {
     "data": {
      "application/vnd.plotly.v1+json": {
       "config": {
        "plotlyServerURL": "https://plot.ly"
       },
       "data": [
        {
         "line": {
          "color": "blue"
         },
         "mode": "lines",
         "name": "Heat Transfer Coefficient",
         "type": "scatter",
         "x": [
          0,
          1.0101010101010102,
          2.0202020202020203,
          3.0303030303030303,
          4.040404040404041,
          5.050505050505051,
          6.0606060606060606,
          7.070707070707071,
          8.080808080808081,
          9.090909090909092,
          10.101010101010102,
          11.111111111111112,
          12.121212121212121,
          13.131313131313131,
          14.141414141414142,
          15.151515151515152,
          16.161616161616163,
          17.171717171717173,
          18.181818181818183,
          19.191919191919194,
          20.202020202020204,
          21.212121212121215,
          22.222222222222225,
          23.232323232323235,
          24.242424242424242,
          25.252525252525253,
          26.262626262626263,
          27.272727272727273,
          28.282828282828284,
          29.292929292929294,
          30.303030303030305,
          31.313131313131315,
          32.323232323232325,
          33.333333333333336,
          34.343434343434346,
          35.35353535353536,
          36.36363636363637,
          37.37373737373738,
          38.38383838383839,
          39.3939393939394,
          40.40404040404041,
          41.41414141414142,
          42.42424242424243,
          43.43434343434344,
          44.44444444444445,
          45.45454545454546,
          46.46464646464647,
          47.47474747474748,
          48.484848484848484,
          49.494949494949495,
          50.505050505050505,
          51.515151515151516,
          52.525252525252526,
          53.535353535353536,
          54.54545454545455,
          55.55555555555556,
          56.56565656565657,
          57.57575757575758,
          58.58585858585859,
          59.5959595959596,
          60.60606060606061,
          61.61616161616162,
          62.62626262626263,
          63.63636363636364,
          64.64646464646465,
          65.65656565656566,
          66.66666666666667,
          67.67676767676768,
          68.68686868686869,
          69.6969696969697,
          70.70707070707071,
          71.71717171717172,
          72.72727272727273,
          73.73737373737374,
          74.74747474747475,
          75.75757575757576,
          76.76767676767678,
          77.77777777777779,
          78.7878787878788,
          79.7979797979798,
          80.80808080808082,
          81.81818181818183,
          82.82828282828284,
          83.83838383838385,
          84.84848484848486,
          85.85858585858587,
          86.86868686868688,
          87.87878787878789,
          88.8888888888889,
          89.89898989898991,
          90.90909090909092,
          91.91919191919193,
          92.92929292929294,
          93.93939393939395,
          94.94949494949496,
          95.95959595959597,
          96.96969696969697,
          97.97979797979798,
          98.98989898989899,
          100
         ],
         "y": [
          0,
          4.137788292400781,
          4.920687277697969,
          5.445635642727737,
          5.851716321341795,
          6.187436679992944,
          6.475988652044242,
          6.730429453686615,
          6.958902684317212,
          7.166859553401819,
          7.358143723476423,
          7.535575713462996,
          7.7012917816878925,
          7.856952083203338,
          8.003874593348,
          8.143124621327761,
          8.275576584801563,
          8.401957817564858,
          8.522880373130668,
          8.638864590025808,
          8.750356869170776,
          8.857743300006996,
          8.9613602540919,
          9.061502726741189,
          9.158430981495224,
          9.252375898310923,
          9.343543319580862,
          9.432117612712439,
          9.518264613998952,
          9.602134079282129,
          9.68386173803681,
          9.76357102601363,
          9.841374555395937,
          9.917375369124585,
          9.991668016600862,
          10.064339480665685,
          10.135469980044036,
          10.205133666951955,
          10.273399236003755,
          10.340330457716863,
          10.405986647630822,
          10.47042308021423,
          10.533691355236002,
          10.595839723053894,
          10.65691337426868,
          10.716954698363072,
          10.776003515257178,
          10.834097283139736,
          10.891271285455474,
          10.94755879952708,
          11.002991248951043,
          11.057598341620148,
          11.111408194981705,
          11.164447449933256,
          11.216741374580113,
          11.268313958927118,
          11.31918800144618,
          11.369385188348453,
          11.41892616629241,
          11.46783060917457,
          11.516117279575992,
          11.563804085373667,
          11.610908131969826,
          11.657445770543259,
          11.70343264268359,
          11.748883721731643,
          11.793813351115695,
          11.838235279943865,
          11.882162696086871,
          11.925608256962228,
          11.968584118210424,
          12.011101960435331,
          12.053173014164853,
          12.094808083173179,
          12.136017566293072,
          12.17681147783498,
          12.217199466719185,
          12.257190834417978,
          12.29679455179624,
          12.336019274931276,
          12.374873359985887,
          12.413364877202344,
          12.451501624079471,
          12.48929113778981,
          12.526740706889308,
          12.563857382367713,
          12.600647988084152,
          12.637119130628719,
          12.673277208647969,
          12.709128421669115,
          12.744678778455203,
          12.779934104921141,
          12.814900051638173,
          12.849582100952441,
          12.883985573741423,
          12.918115635830251,
          12.951977304088484,
          12.985575452226351,
          13.018914816308252,
          13.052
         ]
        }
       ],
       "layout": {
        "template": {
         "data": {
          "bar": [
           {
            "error_x": {
             "color": "#2a3f5f"
            },
            "error_y": {
             "color": "#2a3f5f"
            },
            "marker": {
             "line": {
              "color": "#E5ECF6",
              "width": 0.5
             },
             "pattern": {
              "fillmode": "overlay",
              "size": 10,
              "solidity": 0.2
             }
            },
            "type": "bar"
           }
          ],
          "barpolar": [
           {
            "marker": {
             "line": {
              "color": "#E5ECF6",
              "width": 0.5
             },
             "pattern": {
              "fillmode": "overlay",
              "size": 10,
              "solidity": 0.2
             }
            },
            "type": "barpolar"
           }
          ],
          "carpet": [
           {
            "aaxis": {
             "endlinecolor": "#2a3f5f",
             "gridcolor": "white",
             "linecolor": "white",
             "minorgridcolor": "white",
             "startlinecolor": "#2a3f5f"
            },
            "baxis": {
             "endlinecolor": "#2a3f5f",
             "gridcolor": "white",
             "linecolor": "white",
             "minorgridcolor": "white",
             "startlinecolor": "#2a3f5f"
            },
            "type": "carpet"
           }
          ],
          "choropleth": [
           {
            "colorbar": {
             "outlinewidth": 0,
             "ticks": ""
            },
            "type": "choropleth"
           }
          ],
          "contour": [
           {
            "colorbar": {
             "outlinewidth": 0,
             "ticks": ""
            },
            "colorscale": [
             [
              0,
              "#0d0887"
             ],
             [
              0.1111111111111111,
              "#46039f"
             ],
             [
              0.2222222222222222,
              "#7201a8"
             ],
             [
              0.3333333333333333,
              "#9c179e"
             ],
             [
              0.4444444444444444,
              "#bd3786"
             ],
             [
              0.5555555555555556,
              "#d8576b"
             ],
             [
              0.6666666666666666,
              "#ed7953"
             ],
             [
              0.7777777777777778,
              "#fb9f3a"
             ],
             [
              0.8888888888888888,
              "#fdca26"
             ],
             [
              1,
              "#f0f921"
             ]
            ],
            "type": "contour"
           }
          ],
          "contourcarpet": [
           {
            "colorbar": {
             "outlinewidth": 0,
             "ticks": ""
            },
            "type": "contourcarpet"
           }
          ],
          "heatmap": [
           {
            "colorbar": {
             "outlinewidth": 0,
             "ticks": ""
            },
            "colorscale": [
             [
              0,
              "#0d0887"
             ],
             [
              0.1111111111111111,
              "#46039f"
             ],
             [
              0.2222222222222222,
              "#7201a8"
             ],
             [
              0.3333333333333333,
              "#9c179e"
             ],
             [
              0.4444444444444444,
              "#bd3786"
             ],
             [
              0.5555555555555556,
              "#d8576b"
             ],
             [
              0.6666666666666666,
              "#ed7953"
             ],
             [
              0.7777777777777778,
              "#fb9f3a"
             ],
             [
              0.8888888888888888,
              "#fdca26"
             ],
             [
              1,
              "#f0f921"
             ]
            ],
            "type": "heatmap"
           }
          ],
          "heatmapgl": [
           {
            "colorbar": {
             "outlinewidth": 0,
             "ticks": ""
            },
            "colorscale": [
             [
              0,
              "#0d0887"
             ],
             [
              0.1111111111111111,
              "#46039f"
             ],
             [
              0.2222222222222222,
              "#7201a8"
             ],
             [
              0.3333333333333333,
              "#9c179e"
             ],
             [
              0.4444444444444444,
              "#bd3786"
             ],
             [
              0.5555555555555556,
              "#d8576b"
             ],
             [
              0.6666666666666666,
              "#ed7953"
             ],
             [
              0.7777777777777778,
              "#fb9f3a"
             ],
             [
              0.8888888888888888,
              "#fdca26"
             ],
             [
              1,
              "#f0f921"
             ]
            ],
            "type": "heatmapgl"
           }
          ],
          "histogram": [
           {
            "marker": {
             "pattern": {
              "fillmode": "overlay",
              "size": 10,
              "solidity": 0.2
             }
            },
            "type": "histogram"
           }
          ],
          "histogram2d": [
           {
            "colorbar": {
             "outlinewidth": 0,
             "ticks": ""
            },
            "colorscale": [
             [
              0,
              "#0d0887"
             ],
             [
              0.1111111111111111,
              "#46039f"
             ],
             [
              0.2222222222222222,
              "#7201a8"
             ],
             [
              0.3333333333333333,
              "#9c179e"
             ],
             [
              0.4444444444444444,
              "#bd3786"
             ],
             [
              0.5555555555555556,
              "#d8576b"
             ],
             [
              0.6666666666666666,
              "#ed7953"
             ],
             [
              0.7777777777777778,
              "#fb9f3a"
             ],
             [
              0.8888888888888888,
              "#fdca26"
             ],
             [
              1,
              "#f0f921"
             ]
            ],
            "type": "histogram2d"
           }
          ],
          "histogram2dcontour": [
           {
            "colorbar": {
             "outlinewidth": 0,
             "ticks": ""
            },
            "colorscale": [
             [
              0,
              "#0d0887"
             ],
             [
              0.1111111111111111,
              "#46039f"
             ],
             [
              0.2222222222222222,
              "#7201a8"
             ],
             [
              0.3333333333333333,
              "#9c179e"
             ],
             [
              0.4444444444444444,
              "#bd3786"
             ],
             [
              0.5555555555555556,
              "#d8576b"
             ],
             [
              0.6666666666666666,
              "#ed7953"
             ],
             [
              0.7777777777777778,
              "#fb9f3a"
             ],
             [
              0.8888888888888888,
              "#fdca26"
             ],
             [
              1,
              "#f0f921"
             ]
            ],
            "type": "histogram2dcontour"
           }
          ],
          "mesh3d": [
           {
            "colorbar": {
             "outlinewidth": 0,
             "ticks": ""
            },
            "type": "mesh3d"
           }
          ],
          "parcoords": [
           {
            "line": {
             "colorbar": {
              "outlinewidth": 0,
              "ticks": ""
             }
            },
            "type": "parcoords"
           }
          ],
          "pie": [
           {
            "automargin": true,
            "type": "pie"
           }
          ],
          "scatter": [
           {
            "fillpattern": {
             "fillmode": "overlay",
             "size": 10,
             "solidity": 0.2
            },
            "type": "scatter"
           }
          ],
          "scatter3d": [
           {
            "line": {
             "colorbar": {
              "outlinewidth": 0,
              "ticks": ""
             }
            },
            "marker": {
             "colorbar": {
              "outlinewidth": 0,
              "ticks": ""
             }
            },
            "type": "scatter3d"
           }
          ],
          "scattercarpet": [
           {
            "marker": {
             "colorbar": {
              "outlinewidth": 0,
              "ticks": ""
             }
            },
            "type": "scattercarpet"
           }
          ],
          "scattergeo": [
           {
            "marker": {
             "colorbar": {
              "outlinewidth": 0,
              "ticks": ""
             }
            },
            "type": "scattergeo"
           }
          ],
          "scattergl": [
           {
            "marker": {
             "colorbar": {
              "outlinewidth": 0,
              "ticks": ""
             }
            },
            "type": "scattergl"
           }
          ],
          "scattermapbox": [
           {
            "marker": {
             "colorbar": {
              "outlinewidth": 0,
              "ticks": ""
             }
            },
            "type": "scattermapbox"
           }
          ],
          "scatterpolar": [
           {
            "marker": {
             "colorbar": {
              "outlinewidth": 0,
              "ticks": ""
             }
            },
            "type": "scatterpolar"
           }
          ],
          "scatterpolargl": [
           {
            "marker": {
             "colorbar": {
              "outlinewidth": 0,
              "ticks": ""
             }
            },
            "type": "scatterpolargl"
           }
          ],
          "scatterternary": [
           {
            "marker": {
             "colorbar": {
              "outlinewidth": 0,
              "ticks": ""
             }
            },
            "type": "scatterternary"
           }
          ],
          "surface": [
           {
            "colorbar": {
             "outlinewidth": 0,
             "ticks": ""
            },
            "colorscale": [
             [
              0,
              "#0d0887"
             ],
             [
              0.1111111111111111,
              "#46039f"
             ],
             [
              0.2222222222222222,
              "#7201a8"
             ],
             [
              0.3333333333333333,
              "#9c179e"
             ],
             [
              0.4444444444444444,
              "#bd3786"
             ],
             [
              0.5555555555555556,
              "#d8576b"
             ],
             [
              0.6666666666666666,
              "#ed7953"
             ],
             [
              0.7777777777777778,
              "#fb9f3a"
             ],
             [
              0.8888888888888888,
              "#fdca26"
             ],
             [
              1,
              "#f0f921"
             ]
            ],
            "type": "surface"
           }
          ],
          "table": [
           {
            "cells": {
             "fill": {
              "color": "#EBF0F8"
             },
             "line": {
              "color": "white"
             }
            },
            "header": {
             "fill": {
              "color": "#C8D4E3"
             },
             "line": {
              "color": "white"
             }
            },
            "type": "table"
           }
          ]
         },
         "layout": {
          "annotationdefaults": {
           "arrowcolor": "#2a3f5f",
           "arrowhead": 0,
           "arrowwidth": 1
          },
          "autotypenumbers": "strict",
          "coloraxis": {
           "colorbar": {
            "outlinewidth": 0,
            "ticks": ""
           }
          },
          "colorscale": {
           "diverging": [
            [
             0,
             "#8e0152"
            ],
            [
             0.1,
             "#c51b7d"
            ],
            [
             0.2,
             "#de77ae"
            ],
            [
             0.3,
             "#f1b6da"
            ],
            [
             0.4,
             "#fde0ef"
            ],
            [
             0.5,
             "#f7f7f7"
            ],
            [
             0.6,
             "#e6f5d0"
            ],
            [
             0.7,
             "#b8e186"
            ],
            [
             0.8,
             "#7fbc41"
            ],
            [
             0.9,
             "#4d9221"
            ],
            [
             1,
             "#276419"
            ]
           ],
           "sequential": [
            [
             0,
             "#0d0887"
            ],
            [
             0.1111111111111111,
             "#46039f"
            ],
            [
             0.2222222222222222,
             "#7201a8"
            ],
            [
             0.3333333333333333,
             "#9c179e"
            ],
            [
             0.4444444444444444,
             "#bd3786"
            ],
            [
             0.5555555555555556,
             "#d8576b"
            ],
            [
             0.6666666666666666,
             "#ed7953"
            ],
            [
             0.7777777777777778,
             "#fb9f3a"
            ],
            [
             0.8888888888888888,
             "#fdca26"
            ],
            [
             1,
             "#f0f921"
            ]
           ],
           "sequentialminus": [
            [
             0,
             "#0d0887"
            ],
            [
             0.1111111111111111,
             "#46039f"
            ],
            [
             0.2222222222222222,
             "#7201a8"
            ],
            [
             0.3333333333333333,
             "#9c179e"
            ],
            [
             0.4444444444444444,
             "#bd3786"
            ],
            [
             0.5555555555555556,
             "#d8576b"
            ],
            [
             0.6666666666666666,
             "#ed7953"
            ],
            [
             0.7777777777777778,
             "#fb9f3a"
            ],
            [
             0.8888888888888888,
             "#fdca26"
            ],
            [
             1,
             "#f0f921"
            ]
           ]
          },
          "colorway": [
           "#636efa",
           "#EF553B",
           "#00cc96",
           "#ab63fa",
           "#FFA15A",
           "#19d3f3",
           "#FF6692",
           "#B6E880",
           "#FF97FF",
           "#FECB52"
          ],
          "font": {
           "color": "#2a3f5f"
          },
          "geo": {
           "bgcolor": "white",
           "lakecolor": "white",
           "landcolor": "#E5ECF6",
           "showlakes": true,
           "showland": true,
           "subunitcolor": "white"
          },
          "hoverlabel": {
           "align": "left"
          },
          "hovermode": "closest",
          "mapbox": {
           "style": "light"
          },
          "paper_bgcolor": "white",
          "plot_bgcolor": "#E5ECF6",
          "polar": {
           "angularaxis": {
            "gridcolor": "white",
            "linecolor": "white",
            "ticks": ""
           },
           "bgcolor": "#E5ECF6",
           "radialaxis": {
            "gridcolor": "white",
            "linecolor": "white",
            "ticks": ""
           }
          },
          "scene": {
           "xaxis": {
            "backgroundcolor": "#E5ECF6",
            "gridcolor": "white",
            "gridwidth": 2,
            "linecolor": "white",
            "showbackground": true,
            "ticks": "",
            "zerolinecolor": "white"
           },
           "yaxis": {
            "backgroundcolor": "#E5ECF6",
            "gridcolor": "white",
            "gridwidth": 2,
            "linecolor": "white",
            "showbackground": true,
            "ticks": "",
            "zerolinecolor": "white"
           },
           "zaxis": {
            "backgroundcolor": "#E5ECF6",
            "gridcolor": "white",
            "gridwidth": 2,
            "linecolor": "white",
            "showbackground": true,
            "ticks": "",
            "zerolinecolor": "white"
           }
          },
          "shapedefaults": {
           "line": {
            "color": "#2a3f5f"
           }
          },
          "ternary": {
           "aaxis": {
            "gridcolor": "white",
            "linecolor": "white",
            "ticks": ""
           },
           "baxis": {
            "gridcolor": "white",
            "linecolor": "white",
            "ticks": ""
           },
           "bgcolor": "#E5ECF6",
           "caxis": {
            "gridcolor": "white",
            "linecolor": "white",
            "ticks": ""
           }
          },
          "title": {
           "x": 0.05
          },
          "xaxis": {
           "automargin": true,
           "gridcolor": "white",
           "linecolor": "white",
           "ticks": "",
           "title": {
            "standoff": 15
           },
           "zerolinecolor": "white",
           "zerolinewidth": 2
          },
          "yaxis": {
           "automargin": true,
           "gridcolor": "white",
           "linecolor": "white",
           "ticks": "",
           "title": {
            "standoff": 15
           },
           "zerolinecolor": "white",
           "zerolinewidth": 2
          }
         }
        }
       }
      }
     },
     "metadata": {},
     "output_type": "display_data"
    }
   ],
   "source": [
    "import numpy as np\n",
    "import plotly.graph_objects as go\n",
    "\n",
    "delta_T = np.linspace(0, 100, 100)  # 温度差の範囲\n",
    "# 熱伝達率 h = 2.51 * C * (delta_T/L) ** 0.25\n",
    "C = 0.52\n",
    "L = 0.01  # 長さ [m]\n",
    "h = 2.51 * C * (delta_T/L) ** 0.25\n",
    "\n",
    "# Plotly で描画\n",
    "fig = go.Figure()\n",
    "fig.add_trace(go.Scatter(\n",
    "    x=delta_T,\n",
    "    y=h,\n",
    "    mode='lines',\n",
    "    name='Heat Transfer Coefficient',\n",
    "    line=dict(color='blue')\n",
    "))"
   ]
  },
  {
   "cell_type": "code",
   "execution_count": null,
   "id": "9034cb34",
   "metadata": {},
   "outputs": [],
   "source": []
  }
 ],
 "metadata": {
  "kernelspec": {
   "display_name": "Python 3",
   "language": "python",
   "name": "python3"
  },
  "language_info": {
   "codemirror_mode": {
    "name": "ipython",
    "version": 3
   },
   "file_extension": ".py",
   "mimetype": "text/x-python",
   "name": "python",
   "nbconvert_exporter": "python",
   "pygments_lexer": "ipython3",
   "version": "3.11.3"
  }
 },
 "nbformat": 4,
 "nbformat_minor": 5
}
